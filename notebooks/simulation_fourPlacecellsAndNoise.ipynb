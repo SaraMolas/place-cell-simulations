{
 "cells": [
  {
   "cell_type": "markdown",
   "id": "08fdcc84",
   "metadata": {},
   "source": [
    "## Simulation of 4 place cells and 10 random cells (aka noise)\n",
    "\n",
    "Simulation 4 place cells on a linear 1D track, 2 of them having their place fields overlapping with the place field of the other two place cells. In addition, 10 noise cells firing randomly along the track, independently of position. "
   ]
  },
  {
   "cell_type": "code",
   "execution_count": null,
   "id": "767bcee6",
   "metadata": {},
   "outputs": [],
   "source": [
    "# 0. Import necessary libraries\n",
    "import numpy as np\n",
    "import os\n",
    "import place_cell_simulations as pcs"
   ]
  },
  {
   "cell_type": "code",
   "execution_count": null,
   "id": "d9ab48ec",
   "metadata": {},
   "outputs": [],
   "source": [
    "# 1. Generate trajectory along the track, and plot occupancy and position\n",
    "\n",
    " # generate trajectory\n",
    "traj = pcs.generate_trajectory(track_length = 1.0, dt = 0.005, duration_s = 300.0, theta = 1.0, mu = 0.0, sigma = 0.4, v0 = 0.0) \n",
    "\n",
    "# Plot occupancy histogram and position over time lineplot\n",
    "fig1, _ =  pcs.occupancy_plot(time = traj[\"time\"], pos = traj[\"pos\"], track_length = traj[\"meta\"][\"track_length\"], n_bins = 50)\n",
    "    \n",
    "fig2, _ = pcs.plot_position(traj[\"time\"], pos = traj[\"pos\"], track_length = traj[\"meta\"][\"track_length\"])"
   ]
  },
  {
   "cell_type": "code",
   "execution_count": null,
   "id": "d46d2db8",
   "metadata": {},
   "outputs": [],
   "source": [
    "# 2. Generate spikes for place cells, and plot empirical and theoretical rate maps\n",
    "\n",
    "# parameters for place cells\n",
    "n_cells = 20\n",
    "centers = np.linspace(0.1, 0.9, n_cells) # place field centers\n",
    "sigmas = np.full(n_cells, 0.1) # place field size\n",
    "peak_rates = np.random.uniform(5, 20, n_cells)\n",
    "baseline_rate = 0.5\n",
    "    \n",
    "# generate spikes \n",
    "spikes, spike_times, spike_pos, spike_counts = pcs.generate_place_cell_spikes(centers, sigmas, peak_rates, baseline_rate,\n",
    "                               traj['pos'], traj['time'], traj['dt']) \n",
    "\n",
    "#  generate empirical ratemaps (based on spikes and trajectory) and theoretical ratemaps (based on place field parameters)\n",
    "empirical_rate_maps, bin_centers = pcs.compute_empirical_rate_maps(n_bins = 100, track_length = traj[\"meta\"][\"track_length\"], pos = traj[\"pos\"], dt = traj[\"dt\"], \n",
    "                                spike_postions = spike_pos) \n",
    "    \n",
    "theoretical_rates, x = pcs.compute_theoretical_rate_maps(track_length=traj[\"meta\"][\"track_length\"], centers = centers, sigma_pf = sigmas, peak_rates = peak_rates, \n",
    "                                  baseline_rate = baseline_rate)\n",
    "\n",
    "# plot spike raster and empirical vs theoretical rate maps of place cells \n",
    "fig3, _ = pcs.plot_spike_raster(spike_times = spike_times, duration = traj[\"meta\"][\"duration\"], centers = centers)\n",
    "\n",
    "fig4, _ = pcs.plot_empirical_vs_theoretical_rate(empirical_rates = empirical_rate_maps, theoretical_rates = theoretical_rates, \n",
    "                                       bin_centers = bin_centers, centers = centers, peak_rates = peak_rates, \n",
    "                                       x = x, track_length = traj[\"meta\"][\"track_length\"])\n",
    "    "
   ]
  },
  {
   "cell_type": "code",
   "execution_count": null,
   "id": "173106b4",
   "metadata": {},
   "outputs": [],
   "source": [
    "# 3. Generate spikes for random cells (noise), and plot empirical rate maps\n",
    "\n",
    "# parameters for noise cells\n",
    "n_noise = 10\n",
    "min_noise_rate = 0.1\n",
    "max_noise_rate = 1.0\n",
    "\n",
    "# generate spikes for noise cells\n",
    "noise_spikes = pcs.generate_noise_cell_spikes(n_noise = n_noise, min_rate = min_noise_rate, max_rate = max_noise_rate,  time = traj['time'], dt = traj['dt'])\n",
    "\n"
   ]
  },
  {
   "cell_type": "code",
   "execution_count": null,
   "id": "5cf14e42",
   "metadata": {},
   "outputs": [],
   "source": [
    "# 4. Plot ratemap for all cells (place and noise)\n",
    "\n",
    "all_spikes = np.vstack([spikes, noise_spikes])\n",
    "fig5, _ = pcs.plot_rate_maps(spikes = all_spikes, positions = traj[\"pos\"], times = traj[\"time\"], n_bins = 50, smooth_sigma = 1.0)\n",
    "    "
   ]
  },
  {
   "cell_type": "code",
   "execution_count": null,
   "id": "a6d9c5f1",
   "metadata": {},
   "outputs": [],
   "source": [
    "# 5. Save dataset and ratemap of all neurons\n",
    "figure_path = os.path.join(os.getcwd(), \"data\", \"ratemap_allCells.png\")\n",
    "fig5.savefig(figure_path, dpi=150)\n",
    "print(\"Saved figure to\", figure_path)\n",
    "\n",
    "filepath = os.path.join(os.getcwd(), \"data\", \"fourPlacecellsAndNoise.npz\")\n",
    "pcs.save_dataset({\"time\": traj[\"time\"], \"pos\": traj[\"pos\"], \"vel\": traj[\"vel\"], \"meta\": traj[\"meta\"]}, filepath)\n",
    "print(\"Saved dataset to\", filepath)\n",
    "\n",
    "filepath = os.path.join(os.getcwd(), \"data\", \"fourPlacecellsAndNoise_spikes.npz\")\n",
    "pcs.save_dataset({\"spikes\": all_spikes}, filepath)\n",
    "print(\"Saved spikes to\", filepath)"
   ]
  }
 ],
 "metadata": {
  "kernelspec": {
   "display_name": "base",
   "language": "python",
   "name": "python3"
  },
  "language_info": {
   "codemirror_mode": {
    "name": "ipython",
    "version": 3
   },
   "file_extension": ".py",
   "mimetype": "text/x-python",
   "name": "python",
   "nbconvert_exporter": "python",
   "pygments_lexer": "ipython3",
   "version": "3.7.6"
  }
 },
 "nbformat": 4,
 "nbformat_minor": 5
}
